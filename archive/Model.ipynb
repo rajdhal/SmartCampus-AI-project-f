{
 "cells": [
  {
   "cell_type": "code",
   "execution_count": 929,
   "metadata": {},
   "outputs": [],
   "source": [
    "# Define if you want to download data from the original database or use the dataset one already provided and preprocessed\n",
    "# Use:\n",
    "# 'load': If you want to load the datase from the directory\n",
    "# 'download': To download data from the database and process the images\n",
    "dataset_load_method = 'load'\n",
    "\n",
    "# Define if you want to save the dataset to a file\n",
    "save_dataset = True\n",
    "\n",
    "# Define if you want to load the trained classifiers from the directory\n",
    "load_classifiers = False\n",
    "\n",
    "# Define if you want to save the trained classifiers to a file\n",
    "save_classifiers = True\n",
    "\n",
    "# Define if you want to save classification test output to a file\n",
    "save_results = True\n",
    "if (save_results):\n",
    "    result_output_file = open('result_output.txt','w') \n",
    "\n",
    "# Define if you want to print errors and warnings\n",
    "enable_error_output = True"
   ]
  },
  {
   "cell_type": "code",
   "execution_count": 930,
   "metadata": {},
   "outputs": [],
   "source": [
    "import numpy as np\n",
    "import pandas as pd\n",
    "import matplotlib.pyplot as plt\n",
    "from sys import stdout\n",
    "import cv2\n",
    "from scipy import ndimage\n",
    "from IPython.display import clear_output\n",
    "from skimage.transform import resize"
   ]
  },
  {
   "cell_type": "code",
   "execution_count": 931,
   "metadata": {},
   "outputs": [],
   "source": [
    "def print_percentage(prct, msg=None):\n",
    "    if (prct > 100 or prct < 0):\n",
    "        return\n",
    "    clear_output(wait=True)\n",
    "    if (msg == None):\n",
    "        stdout.write(\"Progress: [\")\n",
    "    else:\n",
    "        stdout.write(msg+\" [\")\n",
    "    end = int(int(prct)/10)\n",
    "    for i in range(0, end):\n",
    "        stdout.write(\"=\")\n",
    "    for i in range(end, 10):\n",
    "        stdout.write(\" \")\n",
    "    stdout.write(\"] \"+str(prct)+\"%\")\n",
    "    stdout.flush()"
   ]
  },
  {
   "cell_type": "code",
   "execution_count": 932,
   "metadata": {},
   "outputs": [],
   "source": [
    "train_df = pd.read_csv(\"written_name_train_v2.csv\", sep=\",\")\n",
    "val_df = pd.read_csv(\"written_name_validation_v2.csv\", sep=\",\")\n",
    "test_df = pd.read_csv(\"written_name_test_v2.csv\", sep=\",\")"
   ]
  },
  {
   "cell_type": "code",
   "execution_count": 933,
   "metadata": {},
   "outputs": [],
   "source": [
    "def delborders(crop):\n",
    "    cropf = ndimage.gaussian_filter(crop, 0.5)\n",
    "    cropbin = (cropf<0.8)\n",
    "    labeled, nr_objects = ndimage.label(cropbin)\n",
    "    labels_to_delete = []\n",
    "    for i in range(0, labeled.shape[1]):\n",
    "        if (labeled[labeled.shape[0]-1][i] > 0):\n",
    "            labels_to_delete.append(labeled[labeled.shape[0]-1][i])\n",
    "    \n",
    "    label_in_delete = False\n",
    "    for x in range(0, labeled.shape[1]):\n",
    "        for y in range(0, labeled.shape[0]):\n",
    "            label_in_delete = False\n",
    "            for l in range(0, len(labels_to_delete)):\n",
    "                if (labeled[y][x] == labels_to_delete[l]):\n",
    "                    label_in_delete = True\n",
    "            \n",
    "            if(label_in_delete):\n",
    "                crop[y][x] = 1.0\n",
    "    \n",
    "    return crop"
   ]
  },
  {
   "cell_type": "code",
   "execution_count": 934,
   "metadata": {},
   "outputs": [],
   "source": [
    "def getcrop(df, n):\n",
    "    path = \"\"\n",
    "    if df is train_df:\n",
    "        path = \"train_v2/train/\"\n",
    "    elif df is val_df:\n",
    "        path = \"validation_v2/validation/\"\n",
    "    elif df is test_df:\n",
    "        path = \"test_v2/test/\"\n",
    "    \n",
    "    img = cv2.imread(path + df.iloc[n][0])\n",
    "    imgh, imgw = img.shape[:-1]\n",
    "    img_rgb = img.copy()\n",
    "    template = cv2.imread('template(1).png')\n",
    "    h, w = template.shape[:-1]\n",
    "\n",
    "    res = cv2.matchTemplate(img_rgb, template, cv2.TM_CCOEFF_NORMED)\n",
    "    threshold = .7\n",
    "    loc = np.where(res >= threshold)\n",
    "\n",
    "    if (len(loc[0])==0 and len(loc[1])==0):\n",
    "        crop = cv2.cvtColor(img, cv2.COLOR_BGR2GRAY)\n",
    "        #crop = cv2.GaussianBlur(crop,(1,1),0)\n",
    "        crop = cv2.threshold(crop, 0, 255, cv2.THRESH_BINARY + cv2.THRESH_OTSU)[1]\n",
    "        crop = cv2.morphologyEx(crop, cv2.MORPH_CLOSE, np.ones((1, 1), np.uint8))\n",
    "        return crop, True\n",
    "        \n",
    "    return img, False\n"
   ]
  },
  {
   "cell_type": "code",
   "execution_count": 935,
   "metadata": {},
   "outputs": [],
   "source": [
    "def gen_dataset(df, n:int=None):\n",
    "    if (n == None):\n",
    "        n = df.shape[0]\n",
    "    data = []\n",
    "    labels = []\n",
    "    for i in range(0, n):\n",
    "        crop, success = getcrop(df, i)\n",
    "        if (success):\n",
    "            data.append(crop)\n",
    "            labels.append(df.iloc[i][1])\n",
    "        else:\n",
    "            if (enable_error_output):\n",
    "                print(\"[WARNING] Template matching has failed for image: \"+str(i))\n",
    "        print_percentage((i*100/(n-1)), \"Fetched \"+str(i)+\" images:\")\n",
    "    \n",
    "    print_percentage(100, \"Fetched \"+str(n-1)+\" images:\")\n",
    "    print(\"\")\n",
    "    print(\"Finished!\")\n",
    "    return data, labels"
   ]
  },
  {
   "cell_type": "code",
   "execution_count": 936,
   "metadata": {},
   "outputs": [
    {
     "name": "stdout",
     "output_type": "stream",
     "text": [
      "Fetched 19 images: [==========] 100%\n",
      "Finished!\n",
      "Training data: 7\n",
      "Training labels: 7\n"
     ]
    },
    {
     "data": {
      "image/png": "[encoded data removed]",
      "text/plain": [
       "<Figure size 640x480 with 1 Axes>"
      ]
     },
     "metadata": {},
     "output_type": "display_data"
    }
   ],
   "source": [
    "training_data, training_labels = gen_dataset(train_df, 20)\n",
    "print(\"Training data: \"+str(len(training_data)))\n",
    "print(\"Training labels: \"+str(len(training_labels)))\n",
    "\n",
    "plt.imshow(training_data[0], cmap='gray')\n",
    "plt.show()\n"
   ]
  },
  {
   "cell_type": "code",
   "execution_count": 937,
   "metadata": {},
   "outputs": [],
   "source": [
    "\n",
    "\n",
    "def get_labels(crop):\n",
    "    img = crop.copy() # gray-scale image\n",
    "\n",
    "    # You could smooth the image (to remove small objects) but we saw better results without using it...\n",
    "    threshold = 1\n",
    "\n",
    "    # Find connected components\n",
    "    labeled, nr_objects = ndimage.label(img<threshold) \n",
    "    #print(\"Number of objects is \" +str(nr_objects))\n",
    "\n",
    "    return labeled, nr_objects\n"
   ]
  },
  {
   "cell_type": "code",
   "execution_count": 938,
   "metadata": {},
   "outputs": [],
   "source": [
    "def get_bboxes(labeled, nr_objects):\n",
    "    bboxes = np.zeros((nr_objects, 2, 2), dtype='int')\n",
    "\n",
    "    x1, y1, x2, y2 = 0, labeled.shape[0], 0, 0\n",
    "    coord = 0\n",
    "    cont = 0\n",
    "    ytop, ybot = 0, 0\n",
    "    nzero, firstb = False, False\n",
    "\n",
    "    for x in range(0, labeled.shape[1]):\n",
    "        nzero, firstb = False, False\n",
    "        ytop, ybot = 0, 0\n",
    "        for y in range(0, labeled.shape[0]):\n",
    "            if (labeled[y][x] > 0):\n",
    "                nzero = True\n",
    "                if (not firstb):\n",
    "                    ytop = y\n",
    "                    firstb = True\n",
    "                ybot = y\n",
    "\n",
    "        if (nzero):\n",
    "            if (ytop < y1):\n",
    "                y1 = ytop\n",
    "            if (ybot > y2):\n",
    "                y2 = ybot\n",
    "            if (coord == 0):\n",
    "                x1 = x\n",
    "                coord = 1\n",
    "            elif (coord == 1):\n",
    "                x2 = x\n",
    "        elif ((not nzero) and (coord == 1)):\n",
    "            bboxes[cont][0] = [x1, y1]\n",
    "            bboxes[cont][1] = [x2, y2]\n",
    "            cont += 1\n",
    "            coord = 0\n",
    "            x1, y1, x2, y2 = 0, labeled.shape[0], 0, 0\n",
    "\n",
    "    bboxes = bboxes[0:cont]\n",
    "    return bboxes, cont"
   ]
  },
  {
   "cell_type": "code",
   "execution_count": 939,
   "metadata": {},
   "outputs": [],
   "source": [
    "\n",
    "\n",
    "def crop_characters(img, bboxes, n):\n",
    "    characters = []\n",
    "    for i in range(0, n):\n",
    "        c = img.copy()[bboxes[i][0][1]:bboxes[i][1][1], bboxes[i][0][0]:bboxes[i][1][0]]\n",
    "        if (c.shape[0] != 0 and c.shape[1] != 0):\n",
    "            c = resize(c, (28, 28), mode='constant', cval=1.0, clip=True)\n",
    "            characters.append((c<0.80).reshape(784))\n",
    "    return characters, len(characters)\n",
    "\n"
   ]
  },
  {
   "cell_type": "code",
   "execution_count": 940,
   "metadata": {},
   "outputs": [],
   "source": [
    "def labelsep(label):\n",
    "    if (type(label) is str or type(label) is np.str_):\n",
    "        decomposed_label = list(label)\n",
    "        labels = []\n",
    "        for i in range(0, len(decomposed_label)):\n",
    "            if (decomposed_label[i] != ' '):\n",
    "                labels.append(decomposed_label[i])\n",
    "        return labels\n",
    "    else:\n",
    "        return []"
   ]
  },
  {
   "cell_type": "code",
   "execution_count": 941,
   "metadata": {},
   "outputs": [],
   "source": [
    "def get_characters(image, label):\n",
    "    labeled, nr_objects = get_labels(image)\n",
    "    bboxes, n = get_bboxes(labeled, nr_objects)\n",
    "    characters, n_chars = crop_characters(image, bboxes, n)\n",
    "    labels = labelsep(label)\n",
    "    return characters, labels[0:n_chars]\n",
    "\n",
    "def get_characters_img_only(image):\n",
    "    labeled, nr_objects = get_labels(image)\n",
    "    bboxes, n = get_bboxes(labeled, nr_objects)\n",
    "    characters, n_chars = crop_characters(image, bboxes, n)\n",
    "    return characters"
   ]
  },
  {
   "cell_type": "code",
   "execution_count": 942,
   "metadata": {},
   "outputs": [
    {
     "data": {
      "image/png": "[encoded data removed]",
      "text/plain": [
       "<Figure size 640x480 with 1 Axes>"
      ]
     },
     "metadata": {},
     "output_type": "display_data"
    },
    {
     "name": "stdout",
     "output_type": "stream",
     "text": [
      "ELISE\n"
     ]
    }
   ],
   "source": [
    "\n",
    "\n",
    "selection = 3\n",
    "plt.imshow(training_data[selection], cmap='gray')\n",
    "plt.show()\n",
    "print(training_labels[selection])\n",
    "\n"
   ]
  },
  {
   "cell_type": "code",
   "execution_count": 943,
   "metadata": {},
   "outputs": [],
   "source": [
    "characters, charlabels = get_characters(training_data[selection], training_labels[selection])"
   ]
  },
  {
   "cell_type": "code",
   "execution_count": 944,
   "metadata": {},
   "outputs": [
    {
     "data": {
      "image/png": "[encoded data removed]",
      "text/plain": [
       "<Figure size 640x480 with 1 Axes>"
      ]
     },
     "metadata": {},
     "output_type": "display_data"
    },
    {
     "data": {
      "image/png": "[encoded data removed]",
      "text/plain": [
       "<Figure size 640x480 with 1 Axes>"
      ]
     },
     "metadata": {},
     "output_type": "display_data"
    },
    {
     "data": {
      "image/png": "[encoded data removed]",
      "text/plain": [
       "<Figure size 640x480 with 1 Axes>"
      ]
     },
     "metadata": {},
     "output_type": "display_data"
    },
    {
     "data": {
      "image/png": "[encoded data removed]",
      "text/plain": [
       "<Figure size 640x480 with 1 Axes>"
      ]
     },
     "metadata": {},
     "output_type": "display_data"
    },
    {
     "data": {
      "image/png": "[encoded data removed]",
      "text/plain": [
       "<Figure size 640x480 with 1 Axes>"
      ]
     },
     "metadata": {},
     "output_type": "display_data"
    },
    {
     "name": "stdout",
     "output_type": "stream",
     "text": [
      "['E', 'L', 'I', 'S', 'E']\n"
     ]
    }
   ],
   "source": [
    "for i in range(0, len(characters)):\n",
    "    plt.imshow(characters[i].reshape(28,28), cmap='gray')\n",
    "    plt.show()\n",
    "    \n",
    "print(str(charlabels))"
   ]
  }
 ],
 "metadata": {
  "kernelspec": {
   "display_name": "Python 3",
   "language": "python",
   "name": "python3"
  },
  "language_info": {
   "name": "python",
   "version": "3.11.5"
  }
 },
 "nbformat": 4,
 "nbformat_minor": 2
}
